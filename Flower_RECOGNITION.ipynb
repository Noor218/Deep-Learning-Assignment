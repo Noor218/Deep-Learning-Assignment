{
  "nbformat": 4,
  "nbformat_minor": 0,
  "metadata": {
    "colab": {
      "name": "Flower_RECOGNITION.ipynb",
      "provenance": [],
      "collapsed_sections": []
    },
    "kernelspec": {
      "name": "python3",
      "display_name": "Python 3"
    },
    "language_info": {
      "name": "python"
    },
    "accelerator": "GPU"
  },
  "cells": [
    {
      "cell_type": "code",
      "metadata": {
        "id": "MHeMvFpkR-Oe"
      },
      "source": [
        "import numpy as np\n",
        "import pandas as pd\n",
        "import tensorflow as tf\n",
        "from tensorflow.keras import models\n",
        "from tensorflow.keras import layers\n",
        "from tensorflow.keras.preprocessing.image import ImageDataGenerator\n",
        "from tensorflow.keras.models import Sequential\n",
        "from tensorflow.keras.layers import Dense, Flatten\n",
        "from tensorflow.keras.optimizers import RMSprop\n"
      ],
      "execution_count": 4,
      "outputs": []
    },
    {
      "cell_type": "code",
      "metadata": {
        "id": "egZwLd-iJDED"
      },
      "source": [
        "import glob\n",
        "import cv2\n",
        "\n",
        "with tf.device('/device:GPU:0'):\n",
        "\n",
        "  IMG_DIR='/content/drive/MyDrive/Kaggle Dataset/flowers/daisy'\n",
        "  IMG_DIR1='/content/drive/MyDrive/Kaggle Dataset/flowers/dandelion'\n",
        "  IMG_DIR2='/content/drive/MyDrive/Kaggle Dataset/flowers/rose'\n",
        "  IMG_DIR3='/content/drive/MyDrive/Kaggle Dataset/flowers/sunflower'\n",
        "  IMG_DIR4='/content/drive/MyDrive/Kaggle Dataset/flowers/tulip'\n",
        "\n",
        "  def read_images(directory):\n",
        "      for img in glob.glob(directory+\"/*.jpg\"):\n",
        "          image = cv2.imread(img)\n",
        "          resized_img = cv2.resize(image/255.0  , (150 , 150))\n",
        "\n",
        "          yield resized_img\n",
        "\n",
        "  resized_imgs0 =  np.array(list(read_images(IMG_DIR)))\n",
        "  resized_imgs1 =  np.array(list(read_images(IMG_DIR1)))\n",
        "  resized_imgs2 =  np.array(list(read_images(IMG_DIR2)))\n",
        "  resized_imgs3 =  np.array(list(read_images(IMG_DIR3)))\n",
        "  resized_imgs4 =  np.array(list(read_images(IMG_DIR4)))"
      ],
      "execution_count": 5,
      "outputs": []
    },
    {
      "cell_type": "code",
      "metadata": {
        "id": "coTWYSuim7aH"
      },
      "source": [
        "label0 = np.zeros((resized_imgs0.shape[0],1))   #0\n",
        "label1 = np.ones((resized_imgs1.shape[0],1))  #1\n",
        "label2 = np.ones((resized_imgs2.shape[0],1))*2 #2\n",
        "label3 = np.ones((resized_imgs3.shape[0],1))*3 #3\n",
        "label4 = np.ones((resized_imgs4.shape[0],1))*4  #4"
      ],
      "execution_count": 6,
      "outputs": []
    },
    {
      "cell_type": "code",
      "metadata": {
        "id": "kfxqQEKJm7ho"
      },
      "source": [
        "data = np.concatenate((resized_imgs0,resized_imgs1,resized_imgs2,resized_imgs3,resized_imgs4))"
      ],
      "execution_count": 7,
      "outputs": []
    },
    {
      "cell_type": "code",
      "metadata": {
        "id": "v1rIpkgunCsg"
      },
      "source": [
        "data= data.reshape(data.shape[0], data.shape[1]*data.shape[2]*data.shape[3])"
      ],
      "execution_count": 8,
      "outputs": []
    },
    {
      "cell_type": "code",
      "metadata": {
        "id": "v46rF7dJm7l0"
      },
      "source": [
        "labels = np.concatenate((label0,label1,label2,label3,label4))"
      ],
      "execution_count": 9,
      "outputs": []
    },
    {
      "cell_type": "code",
      "metadata": {
        "id": "SBw851DUqx1d"
      },
      "source": [
        "del resized_imgs0\n",
        "del resized_imgs1\n",
        "del resized_imgs2\n",
        "del resized_imgs3\n",
        "del resized_imgs4\n",
        "del label0\n",
        "del label1\n",
        "del label2\n",
        "del label3\n",
        "del label4"
      ],
      "execution_count": 10,
      "outputs": []
    },
    {
      "cell_type": "code",
      "metadata": {
        "id": "GdRMJtr-m7ob"
      },
      "source": [
        "import pandas as pd\n",
        "data = pd.DataFrame(data)\n",
        "data['labels'] = labels.astype('float32')"
      ],
      "execution_count": 11,
      "outputs": []
    },
    {
      "cell_type": "code",
      "metadata": {
        "id": "YIxDtQiWnVLg"
      },
      "source": [
        "from sklearn.model_selection import train_test_split\n",
        "train_data, test_data, train_labels, test_labels=train_test_split(data.iloc[0:,:-1], data['labels'], test_size=0.3, random_state=42, stratify = labels)"
      ],
      "execution_count": 12,
      "outputs": []
    },
    {
      "cell_type": "code",
      "metadata": {
        "id": "ySi80YLhm7rY"
      },
      "source": [
        "train_data = np.array(train_data).reshape(len(train_data),150,150,3)\n",
        "# test_data.reshape(150,150,3)"
      ],
      "execution_count": 13,
      "outputs": []
    },
    {
      "cell_type": "code",
      "metadata": {
        "id": "u2Q2bSk0i8SS"
      },
      "source": [
        "test_data = np.array(test_data).reshape(len(test_data),150,150,3)"
      ],
      "execution_count": 14,
      "outputs": []
    },
    {
      "cell_type": "code",
      "metadata": {
        "id": "RVYQi0yowy5d"
      },
      "source": [
        "train_labels = np.array(train_labels).astype('float32')\n",
        "test_labels = np.array(test_labels).astype('float32')"
      ],
      "execution_count": 15,
      "outputs": []
    },
    {
      "cell_type": "code",
      "metadata": {
        "id": "mMFN2MN4nKEI"
      },
      "source": [
        "data_gen = tf.keras.preprocessing.image.ImageDataGenerator(\n",
        "    # featurewise_center=True,\n",
        "    # samplewise_center=True,\n",
        "    # featurewise_std_normalization=True,\n",
        "    # samplewise_std_normalization=True,\n",
        "    # zca_whitening=False,\n",
        "    zca_epsilon=1e-06,\n",
        "    rotation_range=0,\n",
        "    width_shift_range=0.0,\n",
        "    height_shift_range=0.0,\n",
        "    brightness_range=None,\n",
        "    shear_range=0.3,\n",
        "    zoom_range=0.2,\n",
        "    channel_shift_range=0.3,\n",
        "    fill_mode=\"nearest\",\n",
        "    cval=0.0,\n",
        "    horizontal_flip=True,\n",
        "    vertical_flip=False,\n",
        "    rescale=None,\n",
        "    preprocessing_function=None,\n",
        "    data_format=None,\n",
        "    validation_split=0.0,\n",
        "    dtype=None,\n",
        ")"
      ],
      "execution_count": 17,
      "outputs": []
    },
    {
      "cell_type": "code",
      "metadata": {
        "id": "IJxEir7CoyCj"
      },
      "source": [
        "data_gen.fit(train_data)"
      ],
      "execution_count": 18,
      "outputs": []
    },
    {
      "cell_type": "code",
      "metadata": {
        "id": "ZIn7Xpbat0aV"
      },
      "source": [
        "data_gen.fit(test_data)"
      ],
      "execution_count": 19,
      "outputs": []
    },
    {
      "cell_type": "code",
      "metadata": {
        "id": "n0kNKV8DatIC"
      },
      "source": [
        "#MOdels with COnv2D and Maxpooling\n",
        "model = tf.keras.models.Sequential([\n",
        "    # Note the input shape is the desired size of the image 150x150 with 3 bytes color\n",
        "    # This is the first convolution\n",
        "    tf.keras.layers.Conv2D(64, (3,3), activation='relu', input_shape=(150, 150, 3,)),\n",
        "    tf.keras.layers.MaxPooling2D(2, 2),\n",
        "    # The second convolution\n",
        "    tf.keras.layers.Conv2D(64, (3,3), activation='relu'),\n",
        "    tf.keras.layers.MaxPooling2D(2,2),\n",
        "    # The third convolution\n",
        "    tf.keras.layers.Conv2D(32, (3,3), activation='relu'),\n",
        "    tf.keras.layers.MaxPooling2D(2,2),\n",
        "    # The fourth convolution\n",
        "    tf.keras.layers.Conv2D(16, (3,3), activation='relu'),\n",
        "    tf.keras.layers.MaxPooling2D(2,2),\n",
        "    # Flatten the results to feed into a DNN\n",
        "    tf.keras.layers.Flatten(),\n",
        "    tf.keras.layers.Dropout(0.5),\n",
        "    # 512 neuron hidden layer\n",
        "    tf.keras.layers.Dense(512, activation='relu'),\n",
        "    tf.keras.layers.Dense(5, activation='softmax')\n",
        "])"
      ],
      "execution_count": 20,
      "outputs": []
    },
    {
      "cell_type": "code",
      "metadata": {
        "id": "2QFL7tA4D0Sa"
      },
      "source": [
        "model.compile(optimizer=RMSprop(learning_rate= 0.0001),\n",
        "loss='sparse_categorical_crossentropy',\n",
        "metrics=['accuracy'])"
      ],
      "execution_count": 21,
      "outputs": []
    },
    {
      "cell_type": "code",
      "metadata": {
        "id": "kBJbtQp1fhfx"
      },
      "source": [
        "%tensorflow_version 2.x\n",
        "import tensorflow as tf"
      ],
      "execution_count": 22,
      "outputs": []
    },
    {
      "cell_type": "code",
      "metadata": {
        "id": "mwG7_qctxUBl",
        "colab": {
          "base_uri": "https://localhost:8080/"
        },
        "outputId": "5ed51f74-4d29-4b6a-b8dc-6c180cabd658"
      },
      "source": [
        "with tf.device('/device:GPU:0'):\n",
        "  result = model.fit(\n",
        "          x= train_data,\n",
        "          y= train_labels,\n",
        "          batch_size = 30,\n",
        "          steps_per_epoch=30,\n",
        "          epochs=100,\n",
        "          validation_split=0.3,\n",
        "          validation_steps=10,\n",
        "          validation_batch_size=10)"
      ],
      "execution_count": 23,
      "outputs": [
        {
          "output_type": "stream",
          "text": [
            "Epoch 1/100\n",
            "30/30 [==============================] - 33s 87ms/step - loss: 1.5994 - accuracy: 0.2138 - val_loss: 1.5677 - val_accuracy: 0.2100\n",
            "Epoch 2/100\n",
            "30/30 [==============================] - 2s 61ms/step - loss: 1.5612 - accuracy: 0.2886 - val_loss: 1.5121 - val_accuracy: 0.3200\n",
            "Epoch 3/100\n",
            "30/30 [==============================] - 2s 82ms/step - loss: 1.5021 - accuracy: 0.3734 - val_loss: 1.4012 - val_accuracy: 0.4300\n",
            "Epoch 4/100\n",
            "30/30 [==============================] - 2s 61ms/step - loss: 1.3812 - accuracy: 0.4349 - val_loss: 1.2996 - val_accuracy: 0.4700\n",
            "Epoch 5/100\n",
            "30/30 [==============================] - 2s 61ms/step - loss: 1.3579 - accuracy: 0.4029 - val_loss: 1.2300 - val_accuracy: 0.4200\n",
            "Epoch 6/100\n",
            "30/30 [==============================] - 2s 61ms/step - loss: 1.2930 - accuracy: 0.4566 - val_loss: 1.1790 - val_accuracy: 0.4700\n",
            "Epoch 7/100\n",
            "30/30 [==============================] - 2s 60ms/step - loss: 1.2393 - accuracy: 0.4607 - val_loss: 1.1403 - val_accuracy: 0.5300\n",
            "Epoch 8/100\n",
            "30/30 [==============================] - 2s 60ms/step - loss: 1.1943 - accuracy: 0.4885 - val_loss: 1.1186 - val_accuracy: 0.5000\n",
            "Epoch 9/100\n",
            "30/30 [==============================] - 2s 61ms/step - loss: 1.1711 - accuracy: 0.4781 - val_loss: 1.0891 - val_accuracy: 0.5500\n",
            "Epoch 10/100\n",
            "30/30 [==============================] - 2s 60ms/step - loss: 1.1587 - accuracy: 0.4968 - val_loss: 1.0800 - val_accuracy: 0.5600\n",
            "Epoch 11/100\n",
            "30/30 [==============================] - 2s 61ms/step - loss: 1.1998 - accuracy: 0.5005 - val_loss: 1.1268 - val_accuracy: 0.5300\n",
            "Epoch 12/100\n",
            "30/30 [==============================] - 2s 61ms/step - loss: 1.0600 - accuracy: 0.5909 - val_loss: 1.0315 - val_accuracy: 0.6000\n",
            "Epoch 13/100\n",
            "30/30 [==============================] - 2s 61ms/step - loss: 1.1264 - accuracy: 0.5177 - val_loss: 1.0604 - val_accuracy: 0.6000\n",
            "Epoch 14/100\n",
            "30/30 [==============================] - 2s 60ms/step - loss: 1.1317 - accuracy: 0.5325 - val_loss: 1.0308 - val_accuracy: 0.5600\n",
            "Epoch 15/100\n",
            "30/30 [==============================] - 2s 60ms/step - loss: 1.0678 - accuracy: 0.5534 - val_loss: 1.0025 - val_accuracy: 0.6200\n",
            "Epoch 16/100\n",
            "30/30 [==============================] - 2s 61ms/step - loss: 1.0574 - accuracy: 0.5580 - val_loss: 0.9921 - val_accuracy: 0.6100\n",
            "Epoch 17/100\n",
            "30/30 [==============================] - 2s 61ms/step - loss: 1.0829 - accuracy: 0.5532 - val_loss: 0.9717 - val_accuracy: 0.5900\n",
            "Epoch 18/100\n",
            "30/30 [==============================] - 2s 61ms/step - loss: 1.0635 - accuracy: 0.5510 - val_loss: 0.9610 - val_accuracy: 0.6200\n",
            "Epoch 19/100\n",
            "30/30 [==============================] - 2s 60ms/step - loss: 1.0340 - accuracy: 0.5923 - val_loss: 0.9678 - val_accuracy: 0.6400\n",
            "Epoch 20/100\n",
            "30/30 [==============================] - 2s 60ms/step - loss: 1.0122 - accuracy: 0.5811 - val_loss: 0.9582 - val_accuracy: 0.6700\n",
            "Epoch 21/100\n",
            "30/30 [==============================] - 2s 60ms/step - loss: 1.0111 - accuracy: 0.5982 - val_loss: 1.0012 - val_accuracy: 0.6400\n",
            "Epoch 22/100\n",
            "30/30 [==============================] - 2s 59ms/step - loss: 1.0869 - accuracy: 0.5557 - val_loss: 0.9322 - val_accuracy: 0.6200\n",
            "Epoch 23/100\n",
            "30/30 [==============================] - 2s 61ms/step - loss: 1.0328 - accuracy: 0.6237 - val_loss: 0.9281 - val_accuracy: 0.6700\n",
            "Epoch 24/100\n",
            "30/30 [==============================] - 2s 61ms/step - loss: 1.0159 - accuracy: 0.6090 - val_loss: 0.9397 - val_accuracy: 0.6600\n",
            "Epoch 25/100\n",
            "30/30 [==============================] - 2s 61ms/step - loss: 0.9969 - accuracy: 0.5968 - val_loss: 0.9144 - val_accuracy: 0.6100\n",
            "Epoch 26/100\n",
            "30/30 [==============================] - 2s 60ms/step - loss: 1.0353 - accuracy: 0.5714 - val_loss: 0.9231 - val_accuracy: 0.6400\n",
            "Epoch 27/100\n",
            "30/30 [==============================] - 2s 60ms/step - loss: 0.9564 - accuracy: 0.6533 - val_loss: 0.9121 - val_accuracy: 0.6400\n",
            "Epoch 28/100\n",
            "30/30 [==============================] - 2s 60ms/step - loss: 0.9476 - accuracy: 0.6180 - val_loss: 1.0309 - val_accuracy: 0.5700\n",
            "Epoch 29/100\n",
            "30/30 [==============================] - 2s 60ms/step - loss: 1.0477 - accuracy: 0.6000 - val_loss: 0.8888 - val_accuracy: 0.6600\n",
            "Epoch 30/100\n",
            "30/30 [==============================] - 2s 60ms/step - loss: 0.9483 - accuracy: 0.6041 - val_loss: 0.8748 - val_accuracy: 0.6600\n",
            "Epoch 31/100\n",
            "30/30 [==============================] - 2s 61ms/step - loss: 1.0163 - accuracy: 0.6208 - val_loss: 0.8726 - val_accuracy: 0.6700\n",
            "Epoch 32/100\n",
            "30/30 [==============================] - 2s 61ms/step - loss: 0.9590 - accuracy: 0.6008 - val_loss: 0.8949 - val_accuracy: 0.6600\n",
            "Epoch 33/100\n",
            "30/30 [==============================] - 2s 61ms/step - loss: 1.0366 - accuracy: 0.5915 - val_loss: 0.9131 - val_accuracy: 0.6300\n",
            "Epoch 34/100\n",
            "30/30 [==============================] - 2s 61ms/step - loss: 0.9329 - accuracy: 0.6524 - val_loss: 0.8424 - val_accuracy: 0.6700\n",
            "Epoch 35/100\n",
            "30/30 [==============================] - 2s 61ms/step - loss: 0.9294 - accuracy: 0.6475 - val_loss: 0.8445 - val_accuracy: 0.7000\n",
            "Epoch 36/100\n",
            "30/30 [==============================] - 2s 60ms/step - loss: 0.9223 - accuracy: 0.6687 - val_loss: 0.9274 - val_accuracy: 0.6600\n",
            "Epoch 37/100\n",
            "30/30 [==============================] - 2s 61ms/step - loss: 0.9019 - accuracy: 0.6227 - val_loss: 0.8872 - val_accuracy: 0.6400\n",
            "Epoch 38/100\n",
            "30/30 [==============================] - 2s 61ms/step - loss: 0.9122 - accuracy: 0.6637 - val_loss: 0.8459 - val_accuracy: 0.6700\n",
            "Epoch 39/100\n",
            "30/30 [==============================] - 2s 60ms/step - loss: 0.9161 - accuracy: 0.6582 - val_loss: 0.8317 - val_accuracy: 0.6700\n",
            "Epoch 40/100\n",
            "30/30 [==============================] - 2s 61ms/step - loss: 0.8137 - accuracy: 0.7156 - val_loss: 0.8134 - val_accuracy: 0.6800\n",
            "Epoch 41/100\n",
            "30/30 [==============================] - 2s 61ms/step - loss: 0.8823 - accuracy: 0.6518 - val_loss: 0.8517 - val_accuracy: 0.6500\n",
            "Epoch 42/100\n",
            "30/30 [==============================] - 2s 61ms/step - loss: 0.9494 - accuracy: 0.6215 - val_loss: 0.8273 - val_accuracy: 0.6600\n",
            "Epoch 43/100\n",
            "30/30 [==============================] - 2s 61ms/step - loss: 0.8805 - accuracy: 0.6419 - val_loss: 0.8433 - val_accuracy: 0.6600\n",
            "Epoch 44/100\n",
            "30/30 [==============================] - 2s 61ms/step - loss: 0.9055 - accuracy: 0.6531 - val_loss: 0.8032 - val_accuracy: 0.6700\n",
            "Epoch 45/100\n",
            "30/30 [==============================] - 2s 62ms/step - loss: 0.8670 - accuracy: 0.6687 - val_loss: 0.8048 - val_accuracy: 0.6900\n",
            "Epoch 46/100\n",
            "30/30 [==============================] - 2s 60ms/step - loss: 0.8878 - accuracy: 0.6718 - val_loss: 0.8103 - val_accuracy: 0.6700\n",
            "Epoch 47/100\n",
            "30/30 [==============================] - 2s 60ms/step - loss: 0.9028 - accuracy: 0.6648 - val_loss: 0.8020 - val_accuracy: 0.6900\n",
            "Epoch 48/100\n",
            "30/30 [==============================] - 2s 62ms/step - loss: 0.8785 - accuracy: 0.7022 - val_loss: 0.7968 - val_accuracy: 0.6800\n",
            "Epoch 49/100\n",
            "30/30 [==============================] - 2s 61ms/step - loss: 0.8411 - accuracy: 0.6619 - val_loss: 0.8197 - val_accuracy: 0.6900\n",
            "Epoch 50/100\n",
            "30/30 [==============================] - 2s 61ms/step - loss: 0.8037 - accuracy: 0.6988 - val_loss: 0.7882 - val_accuracy: 0.7100\n",
            "Epoch 51/100\n",
            "30/30 [==============================] - 2s 60ms/step - loss: 0.9179 - accuracy: 0.6784 - val_loss: 0.7934 - val_accuracy: 0.7100\n",
            "Epoch 52/100\n",
            "30/30 [==============================] - 2s 61ms/step - loss: 0.8489 - accuracy: 0.6876 - val_loss: 0.7875 - val_accuracy: 0.7100\n",
            "Epoch 53/100\n",
            "30/30 [==============================] - 2s 60ms/step - loss: 0.8800 - accuracy: 0.6613 - val_loss: 0.7988 - val_accuracy: 0.7000\n",
            "Epoch 54/100\n",
            "30/30 [==============================] - 2s 61ms/step - loss: 0.8257 - accuracy: 0.6926 - val_loss: 0.8142 - val_accuracy: 0.7200\n",
            "Epoch 55/100\n",
            "30/30 [==============================] - 2s 60ms/step - loss: 0.8573 - accuracy: 0.6496 - val_loss: 0.7729 - val_accuracy: 0.7100\n",
            "Epoch 56/100\n",
            "30/30 [==============================] - 2s 61ms/step - loss: 0.7998 - accuracy: 0.6857 - val_loss: 0.7594 - val_accuracy: 0.7000\n",
            "Epoch 57/100\n",
            "30/30 [==============================] - 2s 60ms/step - loss: 0.7898 - accuracy: 0.7066 - val_loss: 0.7713 - val_accuracy: 0.7000\n",
            "Epoch 58/100\n",
            "30/30 [==============================] - 2s 60ms/step - loss: 0.8731 - accuracy: 0.6698 - val_loss: 0.8168 - val_accuracy: 0.6900\n",
            "Epoch 59/100\n",
            "30/30 [==============================] - 2s 61ms/step - loss: 0.8219 - accuracy: 0.7106 - val_loss: 0.7437 - val_accuracy: 0.7100\n",
            "Epoch 60/100\n",
            "30/30 [==============================] - 2s 61ms/step - loss: 0.8383 - accuracy: 0.6816 - val_loss: 0.7471 - val_accuracy: 0.7200\n",
            "Epoch 61/100\n",
            "30/30 [==============================] - 2s 61ms/step - loss: 0.8129 - accuracy: 0.6773 - val_loss: 0.7536 - val_accuracy: 0.7300\n",
            "Epoch 62/100\n",
            "30/30 [==============================] - 2s 61ms/step - loss: 0.8183 - accuracy: 0.6830 - val_loss: 0.7684 - val_accuracy: 0.7100\n",
            "Epoch 63/100\n",
            "30/30 [==============================] - 2s 61ms/step - loss: 0.8476 - accuracy: 0.6780 - val_loss: 0.7793 - val_accuracy: 0.7300\n",
            "Epoch 64/100\n",
            "30/30 [==============================] - 2s 61ms/step - loss: 0.8091 - accuracy: 0.7154 - val_loss: 0.7582 - val_accuracy: 0.7300\n",
            "Epoch 65/100\n",
            "30/30 [==============================] - 2s 61ms/step - loss: 0.7781 - accuracy: 0.6948 - val_loss: 0.7749 - val_accuracy: 0.7200\n",
            "Epoch 66/100\n",
            "30/30 [==============================] - 2s 60ms/step - loss: 0.7455 - accuracy: 0.7330 - val_loss: 0.7291 - val_accuracy: 0.7600\n",
            "Epoch 67/100\n",
            "30/30 [==============================] - 2s 61ms/step - loss: 0.7268 - accuracy: 0.7201 - val_loss: 0.7517 - val_accuracy: 0.7200\n",
            "Epoch 68/100\n",
            "30/30 [==============================] - 2s 61ms/step - loss: 0.7936 - accuracy: 0.7082 - val_loss: 0.7326 - val_accuracy: 0.7600\n",
            "Epoch 69/100\n",
            "30/30 [==============================] - 2s 60ms/step - loss: 0.7835 - accuracy: 0.7279 - val_loss: 0.7304 - val_accuracy: 0.7600\n",
            "Epoch 70/100\n",
            "30/30 [==============================] - 2s 61ms/step - loss: 0.8111 - accuracy: 0.6986 - val_loss: 0.7414 - val_accuracy: 0.7200\n",
            "Epoch 71/100\n",
            "30/30 [==============================] - 2s 61ms/step - loss: 0.7451 - accuracy: 0.7126 - val_loss: 0.7376 - val_accuracy: 0.7500\n",
            "Epoch 72/100\n",
            "30/30 [==============================] - 2s 61ms/step - loss: 0.8040 - accuracy: 0.7000 - val_loss: 0.7830 - val_accuracy: 0.7100\n",
            "Epoch 73/100\n",
            "30/30 [==============================] - 2s 61ms/step - loss: 0.7720 - accuracy: 0.7282 - val_loss: 0.7252 - val_accuracy: 0.7300\n",
            "Epoch 74/100\n",
            "30/30 [==============================] - 2s 62ms/step - loss: 0.7514 - accuracy: 0.7240 - val_loss: 0.7568 - val_accuracy: 0.6900\n",
            "Epoch 75/100\n",
            "30/30 [==============================] - 2s 60ms/step - loss: 0.7668 - accuracy: 0.6832 - val_loss: 0.8916 - val_accuracy: 0.6600\n",
            "Epoch 76/100\n",
            "30/30 [==============================] - 2s 61ms/step - loss: 0.7279 - accuracy: 0.7247 - val_loss: 0.7303 - val_accuracy: 0.7300\n",
            "Epoch 77/100\n",
            "30/30 [==============================] - 2s 61ms/step - loss: 0.7306 - accuracy: 0.7229 - val_loss: 0.7664 - val_accuracy: 0.7300\n",
            "Epoch 78/100\n",
            "30/30 [==============================] - 2s 62ms/step - loss: 0.7393 - accuracy: 0.7208 - val_loss: 0.7349 - val_accuracy: 0.7300\n",
            "Epoch 79/100\n",
            "30/30 [==============================] - 2s 60ms/step - loss: 0.7364 - accuracy: 0.7389 - val_loss: 0.7602 - val_accuracy: 0.7400\n",
            "Epoch 80/100\n",
            "30/30 [==============================] - 2s 61ms/step - loss: 0.7100 - accuracy: 0.7340 - val_loss: 0.7768 - val_accuracy: 0.7600\n",
            "Epoch 81/100\n",
            "30/30 [==============================] - 2s 60ms/step - loss: 0.7470 - accuracy: 0.7209 - val_loss: 0.7186 - val_accuracy: 0.7400\n",
            "Epoch 82/100\n",
            "30/30 [==============================] - 2s 61ms/step - loss: 0.7075 - accuracy: 0.7527 - val_loss: 0.8209 - val_accuracy: 0.7200\n",
            "Epoch 83/100\n",
            "30/30 [==============================] - 2s 61ms/step - loss: 0.7072 - accuracy: 0.7161 - val_loss: 0.7121 - val_accuracy: 0.7200\n",
            "Epoch 84/100\n",
            "30/30 [==============================] - 2s 60ms/step - loss: 0.7773 - accuracy: 0.7144 - val_loss: 0.7299 - val_accuracy: 0.7300\n",
            "Epoch 85/100\n",
            "30/30 [==============================] - 2s 60ms/step - loss: 0.7366 - accuracy: 0.7418 - val_loss: 0.7295 - val_accuracy: 0.7500\n",
            "Epoch 86/100\n",
            "30/30 [==============================] - 2s 61ms/step - loss: 0.7131 - accuracy: 0.7352 - val_loss: 0.7397 - val_accuracy: 0.7100\n",
            "Epoch 87/100\n",
            "30/30 [==============================] - 2s 61ms/step - loss: 0.7393 - accuracy: 0.7260 - val_loss: 0.7308 - val_accuracy: 0.7500\n",
            "Epoch 88/100\n",
            "30/30 [==============================] - 2s 61ms/step - loss: 0.7361 - accuracy: 0.7209 - val_loss: 0.7562 - val_accuracy: 0.7000\n",
            "Epoch 89/100\n",
            "30/30 [==============================] - 2s 61ms/step - loss: 0.7819 - accuracy: 0.7100 - val_loss: 0.7358 - val_accuracy: 0.7300\n",
            "Epoch 90/100\n",
            "30/30 [==============================] - 2s 61ms/step - loss: 0.6322 - accuracy: 0.7703 - val_loss: 0.8115 - val_accuracy: 0.7300\n",
            "Epoch 91/100\n",
            "30/30 [==============================] - 2s 62ms/step - loss: 0.7669 - accuracy: 0.7210 - val_loss: 0.7753 - val_accuracy: 0.7300\n",
            "Epoch 92/100\n",
            "30/30 [==============================] - 2s 61ms/step - loss: 0.7690 - accuracy: 0.6965 - val_loss: 0.7533 - val_accuracy: 0.7300\n",
            "Epoch 93/100\n",
            "30/30 [==============================] - 2s 60ms/step - loss: 0.6912 - accuracy: 0.7372 - val_loss: 0.7418 - val_accuracy: 0.7400\n",
            "Epoch 94/100\n",
            "30/30 [==============================] - 2s 61ms/step - loss: 0.6710 - accuracy: 0.7688 - val_loss: 0.7335 - val_accuracy: 0.7100\n",
            "Epoch 95/100\n",
            "30/30 [==============================] - 2s 61ms/step - loss: 0.6686 - accuracy: 0.7539 - val_loss: 0.7789 - val_accuracy: 0.7300\n",
            "Epoch 96/100\n",
            "30/30 [==============================] - 2s 62ms/step - loss: 0.6712 - accuracy: 0.7639 - val_loss: 0.7805 - val_accuracy: 0.7400\n",
            "Epoch 97/100\n",
            "30/30 [==============================] - 2s 60ms/step - loss: 0.7377 - accuracy: 0.7075 - val_loss: 0.6971 - val_accuracy: 0.7600\n",
            "Epoch 98/100\n",
            "30/30 [==============================] - 2s 60ms/step - loss: 0.6775 - accuracy: 0.7499 - val_loss: 0.7053 - val_accuracy: 0.7200\n",
            "Epoch 99/100\n",
            "30/30 [==============================] - 2s 62ms/step - loss: 0.6123 - accuracy: 0.7817 - val_loss: 0.8321 - val_accuracy: 0.6500\n",
            "Epoch 100/100\n",
            "30/30 [==============================] - 2s 60ms/step - loss: 0.6738 - accuracy: 0.7309 - val_loss: 0.6913 - val_accuracy: 0.7300\n"
          ],
          "name": "stdout"
        }
      ]
    },
    {
      "cell_type": "code",
      "metadata": {
        "id": "FnuSBCoRwkjd"
      },
      "source": [
        ""
      ],
      "execution_count": null,
      "outputs": []
    },
    {
      "cell_type": "code",
      "metadata": {
        "id": "kAMVOUBUhcj9",
        "colab": {
          "base_uri": "https://localhost:8080/"
        },
        "outputId": "67008345-51a5-4e50-e6ff-e7c4fdd2abcc"
      },
      "source": [
        "model.evaluate(test_data,test_labels)"
      ],
      "execution_count": 24,
      "outputs": [
        {
          "output_type": "stream",
          "text": [
            "38/38 [==============================] - 1s 20ms/step - loss: 0.8016 - accuracy: 0.7102\n"
          ],
          "name": "stdout"
        },
        {
          "output_type": "execute_result",
          "data": {
            "text/plain": [
              "[0.8015604615211487, 0.7101569175720215]"
            ]
          },
          "metadata": {
            "tags": []
          },
          "execution_count": 24
        }
      ]
    },
    {
      "cell_type": "code",
      "metadata": {
        "id": "Ufw4FqsmU-g2",
        "colab": {
          "base_uri": "https://localhost:8080/"
        },
        "outputId": "9b525cf1-1cf0-44a9-feeb-914d39fd0c59"
      },
      "source": [
        "x = result.history.keys()\n",
        "x"
      ],
      "execution_count": 25,
      "outputs": [
        {
          "output_type": "execute_result",
          "data": {
            "text/plain": [
              "dict_keys(['loss', 'accuracy', 'val_loss', 'val_accuracy'])"
            ]
          },
          "metadata": {
            "tags": []
          },
          "execution_count": 25
        }
      ]
    },
    {
      "cell_type": "code",
      "metadata": {
        "id": "dOKPsS3HWwUn",
        "colab": {
          "base_uri": "https://localhost:8080/",
          "height": 573
        },
        "outputId": "01182947-a523-4fc4-c4c7-50c1d5a36d9e"
      },
      "source": [
        "\n",
        "# Visualize training history\n",
        "from keras.models import Sequential\n",
        "from keras.layers import Dense\n",
        "import matplotlib.pyplot as plt\n",
        "import numpy\n",
        "plt.plot(result.history['accuracy'])\n",
        "plt.plot(result.history['val_accuracy'])\n",
        "plt.title('model accuracy')\n",
        "plt.ylabel('accuracy')\n",
        "plt.xlabel('epoch')\n",
        "plt.legend(['train', 'test'], loc='upper left')\n",
        "plt.show()\n",
        "# summarize history for loss\n",
        "plt.plot(result.history['loss'])\n",
        "plt.plot(result.history['val_loss'])\n",
        "plt.title('model loss')\n",
        "plt.ylabel('loss')\n",
        "plt.xlabel('epoch')\n",
        "plt.legend(['train', 'test'], loc='upper left')\n",
        "plt.show()"
      ],
      "execution_count": 26,
      "outputs": [
        {
          "output_type": "display_data",
          "data": {
            "image/png": "[encoded data removed]",
            "text/plain": [
              "<Figure size 432x288 with 1 Axes>"
            ]
          },
          "metadata": {
            "tags": [],
            "needs_background": "light"
          }
        },
        {
          "output_type": "display_data",
          "data": {
            "image/png": "[encoded data removed]",
            "text/plain": [
              "<Figure size 432x288 with 1 Axes>"
            ]
          },
          "metadata": {
            "tags": [],
            "needs_background": "light"
          }
        }
      ]
    },
    {
      "cell_type": "code",
      "metadata": {
        "id": "u7p4aMxliqvO"
      },
      "source": [
        "y_pred1 = model.predict(test_data)"
      ],
      "execution_count": null,
      "outputs": []
    },
    {
      "cell_type": "code",
      "metadata": {
        "id": "-qhQ6JA_i0YM"
      },
      "source": [
        "y_pred1.shape"
      ],
      "execution_count": null,
      "outputs": []
    },
    {
      "cell_type": "code",
      "metadata": {
        "id": "TRKNoHsBNvdR"
      },
      "source": [
        "# list1 = []\n",
        "# for i in range(0,len(validation_generator)):\n",
        "#   for j in range(0,val_batch):\n",
        "#     try:\n",
        "#       list1.append(validation_generator[i][1][j].tolist())\n",
        "#     except:\n",
        "#       break"
      ],
      "execution_count": null,
      "outputs": []
    },
    {
      "cell_type": "code",
      "metadata": {
        "id": "P9u0xdNxfeHl",
        "colab": {
          "base_uri": "https://localhost:8080/"
        },
        "outputId": "59ee497f-3145-4d40-dab6-eb813fdf76fd"
      },
      "source": [
        "np.argmax(y_pred1, axis=1)[0:30]"
      ],
      "execution_count": null,
      "outputs": [
        {
          "output_type": "execute_result",
          "data": {
            "text/plain": [
              "array([4, 0, 4, 4, 4, 3, 1, 3, 2, 2, 1, 3, 2, 2, 2, 4, 0, 2, 4, 1, 1, 0,\n",
              "       4, 3, 1, 4, 3, 1, 4, 1])"
            ]
          },
          "metadata": {
            "tags": []
          },
          "execution_count": 51
        }
      ]
    },
    {
      "cell_type": "code",
      "metadata": {
        "colab": {
          "base_uri": "https://localhost:8080/"
        },
        "id": "zFzNqz3IvhSG",
        "outputId": "71758497-7dce-486a-b889-9a258f4fa4fe"
      },
      "source": [
        "np.array(test_labels[0:30]).astype('int32')"
      ],
      "execution_count": null,
      "outputs": [
        {
          "output_type": "execute_result",
          "data": {
            "text/plain": [
              "array([4, 0, 2, 4, 4, 4, 1, 3, 4, 2, 3, 3, 4, 2, 2, 4, 2, 2, 2, 1, 1, 0,\n",
              "       4, 3, 1, 4, 3, 1, 4, 1], dtype=int32)"
            ]
          },
          "metadata": {
            "tags": []
          },
          "execution_count": 52
        }
      ]
    },
    {
      "cell_type": "code",
      "metadata": {
        "id": "gq1gUHQh_rJ5"
      },
      "source": [
        "plt.figure(figsize = (20,20))\n",
        "for i in range(10):\n",
        "    img = train_datagen[600*i][0]\n",
        "    plt.subplot(1,5,i+1)\n",
        "    plt.imshow(img)\n",
        "    plt.axis(\"off\")\n",
        "    plt.title(train_datagen[600*i][1])\n",
        "plt.show()"
      ],
      "execution_count": null,
      "outputs": []
    }
  ]
}