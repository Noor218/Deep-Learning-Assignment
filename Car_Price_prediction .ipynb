{
 "cells": [
  {
   "cell_type": "markdown",
   "metadata": {
    "id": "NyIkn21s7srO"
   },
   "source": [
    "**Car Price Prediction::**\n",
    "\n",
    "Download dataset from this link:\n",
    "\n",
    "https://www.kaggle.com/hellbuoy/car-price-prediction\n",
    "\n",
    "Problem Statement::\n",
    "A Chinese automobile company Geely Auto aspires to enter the US market by setting up their manufacturing unit there and producing cars locally to give competition to their US and European counterparts.\n",
    "\n",
    "They have contracted an automobile consulting company to understand the factors on which the pricing of cars depends. Specifically, they want to understand the factors affecting the pricing of cars in the American market, since those may be very different from the Chinese market. The company wants to know:\n",
    "\n",
    "Which variables are significant in predicting the price of a car How well those variables describe the price of a car Based on various market surveys, the consulting firm has gathered a large data set of different types of cars across the America market.\n",
    "\n",
    "**task::**\n",
    "We are required to model the price of cars with the available independent variables. It will be used by the management to understand how exactly the prices vary with the independent variables. They can accordingly manipulate the design of the cars, the business strategy etc. to meet certain price levels. Further, the model will be a good way for management to understand the pricing dynamics of a new market.\n",
    "\n",
    "**WORKFLOW ::**\n",
    "\n",
    "1.Load Data\n",
    "\n",
    "2.Check Missing Values ( If Exist ; Fill each record with mean of its feature )\n",
    "\n",
    "3.Split into 50% Training(Samples,Labels) , 30% Test(Samples,Labels) and 20% Validation Data(Samples,Labels).\n",
    "\n",
    "4.Model : input Layer (No. of features ), 3 hidden layers including 10,8,6 unit & Output Layer with activation function relu/tanh (check by experiment).\n",
    "\n",
    "5.Compilation Step (Note : Its a Regression problem , select loss , metrics according to it) 6.Train the Model with Epochs (100) and validate it\n",
    "\n",
    "7.If the model gets overfit tune your model by changing the units , No. of layers , activation function , epochs , add dropout layer or add Regularizer according to the need .\n",
    "\n",
    "8.Evaluation Step\n",
    "\n",
    "9.Prediction\n"
   ]
  },
  {
   "cell_type": "code",
   "execution_count": null,
   "metadata": {
    "id": "Z_zLVupt73BB"
   },
   "outputs": [],
   "source": [
    "import pandas as pd\n",
    "import numpy as np\n",
    "from keras import models,layers\n",
    "from keras.utils.np_utils import to_categorical\n",
    "import matplotlib.pyplot as plt"
   ]
  },
  {
   "cell_type": "code",
   "execution_count": null,
   "metadata": {
    "colab": {
     "base_uri": "https://localhost:8080/",
     "height": 72,
     "resources": {
      "http://localhost:8080/nbextensions/google.colab/files.js": {
       "data": "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",
       "headers": [
        [
         "content-type",
         "application/javascript"
        ]
       ],
       "ok": true,
       "status": 200,
       "status_text": ""
      }
     }
    },
    "id": "eRNB7UjF_KM0",
    "outputId": "5bff41a5-4f77-4fd7-9e3d-73e68e555e76"
   },
   "outputs": [
    {
     "data": {
      "text/html": [
       "\n",
       "     <input type=\"file\" id=\"files-753412e5-fdee-43aa-8200-a50d3439ce35\" name=\"files[]\" multiple disabled\n",
       "        style=\"border:none\" />\n",
       "     <output id=\"result-753412e5-fdee-43aa-8200-a50d3439ce35\">\n",
       "      Upload widget is only available when the cell has been executed in the\n",
       "      current browser session. Please rerun this cell to enable.\n",
       "      </output>\n",
       "      <script src=\"/nbextensions/google.colab/files.js\"></script> "
      ],
      "text/plain": [
       "<IPython.core.display.HTML object>"
      ]
     },
     "metadata": {
      "tags": []
     },
     "output_type": "display_data"
    },
    {
     "name": "stdout",
     "output_type": "stream",
     "text": [
      "Saving CarPrice_Assignment.csv to CarPrice_Assignment.csv\n"
     ]
    }
   ],
   "source": [
    "from google.colab import files\n",
    "uploaded = files.upload()"
   ]
  },
  {
   "cell_type": "code",
   "execution_count": null,
   "metadata": {
    "id": "fWg5KQiC9vjS"
   },
   "outputs": [],
   "source": [
    "df=pd.read_csv('/content/CarPrice_Assignment.csv')"
   ]
  },
  {
   "cell_type": "code",
   "execution_count": null,
   "metadata": {
    "colab": {
     "base_uri": "https://localhost:8080/",
     "height": 275
    },
    "id": "SGpmNPPbGRuO",
    "outputId": "52c3297c-50c7-4191-c9e0-29715e46139f"
   },
   "outputs": [
    {
     "data": {
      "text/html": [
       "<div>\n",
       "<style scoped>\n",
       "    .dataframe tbody tr th:only-of-type {\n",
       "        vertical-align: middle;\n",
       "    }\n",
       "\n",
       "    .dataframe tbody tr th {\n",
       "        vertical-align: top;\n",
       "    }\n",
       "\n",
       "    .dataframe thead th {\n",
       "        text-align: right;\n",
       "    }\n",
       "</style>\n",
       "<table border=\"1\" class=\"dataframe\">\n",
       "  <thead>\n",
       "    <tr style=\"text-align: right;\">\n",
       "      <th></th>\n",
       "      <th>car_ID</th>\n",
       "      <th>symboling</th>\n",
       "      <th>CarName</th>\n",
       "      <th>fueltype</th>\n",
       "      <th>aspiration</th>\n",
       "      <th>doornumber</th>\n",
       "      <th>carbody</th>\n",
       "      <th>drivewheel</th>\n",
       "      <th>enginelocation</th>\n",
       "      <th>wheelbase</th>\n",
       "      <th>carlength</th>\n",
       "      <th>carwidth</th>\n",
       "      <th>carheight</th>\n",
       "      <th>curbweight</th>\n",
       "      <th>enginetype</th>\n",
       "      <th>cylindernumber</th>\n",
       "      <th>enginesize</th>\n",
       "      <th>fuelsystem</th>\n",
       "      <th>boreratio</th>\n",
       "      <th>stroke</th>\n",
       "      <th>compressionratio</th>\n",
       "      <th>horsepower</th>\n",
       "      <th>peakrpm</th>\n",
       "      <th>citympg</th>\n",
       "      <th>highwaympg</th>\n",
       "      <th>price</th>\n",
       "    </tr>\n",
       "  </thead>\n",
       "  <tbody>\n",
       "    <tr>\n",
       "      <th>0</th>\n",
       "      <td>1</td>\n",
       "      <td>3</td>\n",
       "      <td>alfa-romero giulia</td>\n",
       "      <td>gas</td>\n",
       "      <td>std</td>\n",
       "      <td>two</td>\n",
       "      <td>convertible</td>\n",
       "      <td>rwd</td>\n",
       "      <td>front</td>\n",
       "      <td>88.6</td>\n",
       "      <td>168.8</td>\n",
       "      <td>64.1</td>\n",
       "      <td>48.8</td>\n",
       "      <td>2548</td>\n",
       "      <td>dohc</td>\n",
       "      <td>four</td>\n",
       "      <td>130</td>\n",
       "      <td>mpfi</td>\n",
       "      <td>3.47</td>\n",
       "      <td>2.68</td>\n",
       "      <td>9.0</td>\n",
       "      <td>111</td>\n",
       "      <td>5000</td>\n",
       "      <td>21</td>\n",
       "      <td>27</td>\n",
       "      <td>13495.0</td>\n",
       "    </tr>\n",
       "    <tr>\n",
       "      <th>1</th>\n",
       "      <td>2</td>\n",
       "      <td>3</td>\n",
       "      <td>alfa-romero stelvio</td>\n",
       "      <td>gas</td>\n",
       "      <td>std</td>\n",
       "      <td>two</td>\n",
       "      <td>convertible</td>\n",
       "      <td>rwd</td>\n",
       "      <td>front</td>\n",
       "      <td>88.6</td>\n",
       "      <td>168.8</td>\n",
       "      <td>64.1</td>\n",
       "      <td>48.8</td>\n",
       "      <td>2548</td>\n",
       "      <td>dohc</td>\n",
       "      <td>four</td>\n",
       "      <td>130</td>\n",
       "      <td>mpfi</td>\n",
       "      <td>3.47</td>\n",
       "      <td>2.68</td>\n",
       "      <td>9.0</td>\n",
       "      <td>111</td>\n",
       "      <td>5000</td>\n",
       "      <td>21</td>\n",
       "      <td>27</td>\n",
       "      <td>16500.0</td>\n",
       "    </tr>\n",
       "    <tr>\n",
       "      <th>2</th>\n",
       "      <td>3</td>\n",
       "      <td>1</td>\n",
       "      <td>alfa-romero Quadrifoglio</td>\n",
       "      <td>gas</td>\n",
       "      <td>std</td>\n",
       "      <td>two</td>\n",
       "      <td>hatchback</td>\n",
       "      <td>rwd</td>\n",
       "      <td>front</td>\n",
       "      <td>94.5</td>\n",
       "      <td>171.2</td>\n",
       "      <td>65.5</td>\n",
       "      <td>52.4</td>\n",
       "      <td>2823</td>\n",
       "      <td>ohcv</td>\n",
       "      <td>six</td>\n",
       "      <td>152</td>\n",
       "      <td>mpfi</td>\n",
       "      <td>2.68</td>\n",
       "      <td>3.47</td>\n",
       "      <td>9.0</td>\n",
       "      <td>154</td>\n",
       "      <td>5000</td>\n",
       "      <td>19</td>\n",
       "      <td>26</td>\n",
       "      <td>16500.0</td>\n",
       "    </tr>\n",
       "    <tr>\n",
       "      <th>3</th>\n",
       "      <td>4</td>\n",
       "      <td>2</td>\n",
       "      <td>audi 100 ls</td>\n",
       "      <td>gas</td>\n",
       "      <td>std</td>\n",
       "      <td>four</td>\n",
       "      <td>sedan</td>\n",
       "      <td>fwd</td>\n",
       "      <td>front</td>\n",
       "      <td>99.8</td>\n",
       "      <td>176.6</td>\n",
       "      <td>66.2</td>\n",
       "      <td>54.3</td>\n",
       "      <td>2337</td>\n",
       "      <td>ohc</td>\n",
       "      <td>four</td>\n",
       "      <td>109</td>\n",
       "      <td>mpfi</td>\n",
       "      <td>3.19</td>\n",
       "      <td>3.40</td>\n",
       "      <td>10.0</td>\n",
       "      <td>102</td>\n",
       "      <td>5500</td>\n",
       "      <td>24</td>\n",
       "      <td>30</td>\n",
       "      <td>13950.0</td>\n",
       "    </tr>\n",
       "    <tr>\n",
       "      <th>4</th>\n",
       "      <td>5</td>\n",
       "      <td>2</td>\n",
       "      <td>audi 100ls</td>\n",
       "      <td>gas</td>\n",
       "      <td>std</td>\n",
       "      <td>four</td>\n",
       "      <td>sedan</td>\n",
       "      <td>4wd</td>\n",
       "      <td>front</td>\n",
       "      <td>99.4</td>\n",
       "      <td>176.6</td>\n",
       "      <td>66.4</td>\n",
       "      <td>54.3</td>\n",
       "      <td>2824</td>\n",
       "      <td>ohc</td>\n",
       "      <td>five</td>\n",
       "      <td>136</td>\n",
       "      <td>mpfi</td>\n",
       "      <td>3.19</td>\n",
       "      <td>3.40</td>\n",
       "      <td>8.0</td>\n",
       "      <td>115</td>\n",
       "      <td>5500</td>\n",
       "      <td>18</td>\n",
       "      <td>22</td>\n",
       "      <td>17450.0</td>\n",
       "    </tr>\n",
       "  </tbody>\n",
       "</table>\n",
       "</div>"
      ],
      "text/plain": [
       "   car_ID  symboling                   CarName  ... citympg highwaympg    price\n",
       "0       1          3        alfa-romero giulia  ...      21         27  13495.0\n",
       "1       2          3       alfa-romero stelvio  ...      21         27  16500.0\n",
       "2       3          1  alfa-romero Quadrifoglio  ...      19         26  16500.0\n",
       "3       4          2               audi 100 ls  ...      24         30  13950.0\n",
       "4       5          2                audi 100ls  ...      18         22  17450.0\n",
       "\n",
       "[5 rows x 26 columns]"
      ]
     },
     "execution_count": 4,
     "metadata": {
      "tags": []
     },
     "output_type": "execute_result"
    }
   ],
   "source": [
    "df.head()"
   ]
  },
  {
   "cell_type": "code",
   "execution_count": null,
   "metadata": {
    "colab": {
     "base_uri": "https://localhost:8080/"
    },
    "id": "hIw-M3GkOyIq",
    "outputId": "78842d1d-e8cf-4b7e-d8b5-4916bb6f6f7c"
   },
   "outputs": [
    {
     "data": {
      "text/plain": [
       "car_ID                int64\n",
       "symboling             int64\n",
       "CarName              object\n",
       "fueltype             object\n",
       "aspiration           object\n",
       "doornumber           object\n",
       "carbody              object\n",
       "drivewheel           object\n",
       "enginelocation       object\n",
       "wheelbase           float64\n",
       "carlength           float64\n",
       "carwidth            float64\n",
       "carheight           float64\n",
       "curbweight            int64\n",
       "enginetype           object\n",
       "cylindernumber       object\n",
       "enginesize            int64\n",
       "fuelsystem           object\n",
       "boreratio           float64\n",
       "stroke              float64\n",
       "compressionratio    float64\n",
       "horsepower            int64\n",
       "peakrpm               int64\n",
       "citympg               int64\n",
       "highwaympg            int64\n",
       "price               float64\n",
       "dtype: object"
      ]
     },
     "execution_count": 5,
     "metadata": {
      "tags": []
     },
     "output_type": "execute_result"
    }
   ],
   "source": [
    "df.dtypes"
   ]
  },
  {
   "cell_type": "code",
   "execution_count": null,
   "metadata": {
    "id": "A0nk1hEqe07r"
   },
   "outputs": [],
   "source": [
    "def one_encode(l):\n",
    "  integer_mapping = {x: i for i,x in enumerate(l)}\n",
    "  vec = [integer_mapping[word] for word in l]\n",
    "  return vec"
   ]
  },
  {
   "cell_type": "code",
   "execution_count": null,
   "metadata": {
    "id": "Huf_v6NkgfSx"
   },
   "outputs": [],
   "source": [
    "l=['CarName','fueltype','aspiration','doornumber','carbody','drivewheel','enginelocation','enginetype','cylindernumber','fuelsystem']\n",
    "for i in l:\n",
    "  df[i]=one_encode(df[i])"
   ]
  },
  {
   "cell_type": "code",
   "execution_count": null,
   "metadata": {
    "id": "GuIH41BsoccQ"
   },
   "outputs": [],
   "source": [
    "df=df.astype('float64')"
   ]
  },
  {
   "cell_type": "code",
   "execution_count": null,
   "metadata": {
    "colab": {
     "base_uri": "https://localhost:8080/"
    },
    "id": "dE9PQ6e5ztIW",
    "outputId": "bc7e1992-7aa4-4773-a58a-3c0f0990da6a"
   },
   "outputs": [
    {
     "data": {
      "text/plain": [
       "car_ID              float64\n",
       "symboling           float64\n",
       "CarName             float64\n",
       "fueltype            float64\n",
       "aspiration          float64\n",
       "doornumber          float64\n",
       "carbody             float64\n",
       "drivewheel          float64\n",
       "enginelocation      float64\n",
       "wheelbase           float64\n",
       "carlength           float64\n",
       "carwidth            float64\n",
       "carheight           float64\n",
       "curbweight          float64\n",
       "enginetype          float64\n",
       "cylindernumber      float64\n",
       "enginesize          float64\n",
       "fuelsystem          float64\n",
       "boreratio           float64\n",
       "stroke              float64\n",
       "compressionratio    float64\n",
       "horsepower          float64\n",
       "peakrpm             float64\n",
       "citympg             float64\n",
       "highwaympg          float64\n",
       "price               float64\n",
       "dtype: object"
      ]
     },
     "execution_count": 9,
     "metadata": {
      "tags": []
     },
     "output_type": "execute_result"
    }
   ],
   "source": [
    "df.dtypes"
   ]
  },
  {
   "cell_type": "code",
   "execution_count": null,
   "metadata": {
    "colab": {
     "base_uri": "https://localhost:8080/"
    },
    "id": "E1YwvY2nHyv2",
    "outputId": "dca4df0d-75e8-4557-9aaf-24afaea7d259"
   },
   "outputs": [
    {
     "data": {
      "text/plain": [
       "car_ID              0\n",
       "symboling           0\n",
       "CarName             0\n",
       "fueltype            0\n",
       "aspiration          0\n",
       "doornumber          0\n",
       "carbody             0\n",
       "drivewheel          0\n",
       "enginelocation      0\n",
       "wheelbase           0\n",
       "carlength           0\n",
       "carwidth            0\n",
       "carheight           0\n",
       "curbweight          0\n",
       "enginetype          0\n",
       "cylindernumber      0\n",
       "enginesize          0\n",
       "fuelsystem          0\n",
       "boreratio           0\n",
       "stroke              0\n",
       "compressionratio    0\n",
       "horsepower          0\n",
       "peakrpm             0\n",
       "citympg             0\n",
       "highwaympg          0\n",
       "price               0\n",
       "dtype: int64"
      ]
     },
     "execution_count": 10,
     "metadata": {
      "tags": []
     },
     "output_type": "execute_result"
    }
   ],
   "source": [
    "df.isnull().sum()"
   ]
  },
  {
   "cell_type": "code",
   "execution_count": null,
   "metadata": {
    "id": "ZZvJjoOBIdDl"
   },
   "outputs": [],
   "source": [
    "t_val=int((50/100)*len(df['car_ID']))\n",
    "test_val=int((30/100)*len(df['car_ID']))\n",
    "val_val=int((20/100)*len(df['car_ID']))"
   ]
  },
  {
   "cell_type": "code",
   "execution_count": null,
   "metadata": {
    "id": "iudCuVRJJvmm"
   },
   "outputs": [],
   "source": [
    "test_data=np.concatenate((df.loc[ :(test_val//2) ,:'highwaympg'],df.loc[(len(df)-(test_val//2)):  ,:'highwaympg']),axis=0)\n",
    "test_label=np.concatenate((df.loc[:(test_val//2),:'price'],df.loc[len(df)-(test_val//2):,:'price']))\n",
    "\n",
    "remaining_data=df.loc[(test_val//2):len(df)-(test_val//2),:'highwaympg']\n",
    "remaining_labels=df.loc[(test_val//2):len(df)-(test_val//2),:'price']\n"
   ]
  },
  {
   "cell_type": "code",
   "execution_count": null,
   "metadata": {
    "id": "5CFD-uk-oQ7W"
   },
   "outputs": [],
   "source": [
    "mean=remaining_data.mean(axis=0)\n",
    "std=remaining_data.std(axis=0)\n",
    "\n",
    "remaining_data-=mean\n",
    "remaining_data/=std\n",
    "\n",
    "test_data-=mean\n",
    "test_data/=std\n"
   ]
  },
  {
   "cell_type": "code",
   "execution_count": null,
   "metadata": {
    "id": "TBwCg44ao9vW"
   },
   "outputs": [],
   "source": [
    "train_data=remaining_data[:t_val]\n",
    "train_labels=remaining_labels[:t_val]\n",
    "\n",
    "val_data=remaining_data[t_val:]\n",
    "val_labels=remaining_labels[t_val:]"
   ]
  },
  {
   "cell_type": "code",
   "execution_count": 41,
   "metadata": {
    "id": "SPqVhWplKD2X"
   },
   "outputs": [],
   "source": [
    "def build_model():\n",
    "  model = models.Sequential()\n",
    "  model.add(layers.Dense(14, activation='relu', input_shape=(25,)))\n",
    "  model.add(layers.Dense(10,activation='relu'))\n",
    "  model.add(layers.Dense(1))\n",
    "  model.compile(optimizer='rmsprop',loss='mse',metrics=['mae'])\n",
    "  return model"
   ]
  },
  {
   "cell_type": "code",
   "execution_count": 42,
   "metadata": {
    "colab": {
     "base_uri": "https://localhost:8080/"
    },
    "id": "juByUT8AxY6-",
    "outputId": "e6e6512d-360f-48b6-bd73-3baf286ece7a"
   },
   "outputs": [
    {
     "name": "stdout",
     "output_type": "stream",
     "text": [
      "processing fold # 0\n",
      "Epoch 1/10\n",
      "110/110 [==============================] - 1s 3ms/step - loss: 8512340.5315 - mae: 853.4792 - val_loss: 8499264.0000 - val_mae: 824.9797\n",
      "Epoch 2/10\n",
      "110/110 [==============================] - 0s 1ms/step - loss: 9512577.5450 - mae: 870.7421 - val_loss: 8496019.0000 - val_mae: 823.2394\n",
      "Epoch 3/10\n",
      "110/110 [==============================] - 0s 1ms/step - loss: 11684526.7050 - mae: 909.0328 - val_loss: 8491366.0000 - val_mae: 820.9171\n",
      "Epoch 4/10\n",
      "110/110 [==============================] - 0s 1ms/step - loss: 9299692.5811 - mae: 858.7331 - val_loss: 8484885.0000 - val_mae: 817.8561\n",
      "Epoch 5/10\n",
      "110/110 [==============================] - 0s 1ms/step - loss: 10406858.0315 - mae: 888.4942 - val_loss: 8476238.0000 - val_mae: 813.9045\n",
      "Epoch 6/10\n",
      "110/110 [==============================] - 0s 1ms/step - loss: 8430830.4324 - mae: 819.3643 - val_loss: 8464289.0000 - val_mae: 809.3911\n",
      "Epoch 7/10\n",
      "110/110 [==============================] - 0s 2ms/step - loss: 11201944.1532 - mae: 907.6344 - val_loss: 8449352.0000 - val_mae: 804.8495\n",
      "Epoch 8/10\n",
      "110/110 [==============================] - 0s 1ms/step - loss: 11183808.4459 - mae: 876.3542 - val_loss: 8430155.0000 - val_mae: 800.7891\n",
      "Epoch 9/10\n",
      "110/110 [==============================] - 0s 1ms/step - loss: 9141620.0721 - mae: 826.6394 - val_loss: 8405691.0000 - val_mae: 797.1798\n",
      "Epoch 10/10\n",
      "110/110 [==============================] - 0s 1ms/step - loss: 10488452.2387 - mae: 868.5580 - val_loss: 8378879.0000 - val_mae: 794.5830\n",
      "processing fold # 1\n",
      "Epoch 1/10\n",
      "110/110 [==============================] - 1s 3ms/step - loss: 9865250.4437 - mae: 886.9148 - val_loss: 14186173.0000 - val_mae: 958.8046\n",
      "Epoch 2/10\n",
      "110/110 [==============================] - 0s 1ms/step - loss: 8220249.1104 - mae: 842.4518 - val_loss: 14182853.0000 - val_mae: 957.2740\n",
      "Epoch 3/10\n",
      "110/110 [==============================] - 0s 1ms/step - loss: 7972929.6779 - mae: 837.2474 - val_loss: 14177804.0000 - val_mae: 955.1257\n",
      "Epoch 4/10\n",
      "110/110 [==============================] - 0s 1ms/step - loss: 9748314.2793 - mae: 883.9602 - val_loss: 14169825.0000 - val_mae: 951.9221\n",
      "Epoch 5/10\n",
      "110/110 [==============================] - 0s 1ms/step - loss: 8434067.8423 - mae: 842.8415 - val_loss: 14157822.0000 - val_mae: 947.3557\n",
      "Epoch 6/10\n",
      "110/110 [==============================] - 0s 1ms/step - loss: 8693776.5541 - mae: 836.6539 - val_loss: 14140678.0000 - val_mae: 940.9113\n",
      "Epoch 7/10\n",
      "110/110 [==============================] - 0s 1ms/step - loss: 8354968.5000 - mae: 838.5920 - val_loss: 14117852.0000 - val_mae: 933.2380\n",
      "Epoch 8/10\n",
      "110/110 [==============================] - 0s 1ms/step - loss: 9873531.5405 - mae: 861.5739 - val_loss: 14087484.0000 - val_mae: 924.9085\n",
      "Epoch 9/10\n",
      "110/110 [==============================] - 0s 1ms/step - loss: 8915470.5721 - mae: 822.4441 - val_loss: 14050418.0000 - val_mae: 918.7512\n",
      "Epoch 10/10\n",
      "110/110 [==============================] - 0s 1ms/step - loss: 7022058.2590 - mae: 760.4064 - val_loss: 14004403.0000 - val_mae: 914.6165\n",
      "processing fold # 2\n",
      "Epoch 1/10\n",
      "110/110 [==============================] - 1s 5ms/step - loss: 9763474.7432 - mae: 868.7247 - val_loss: 13390653.0000 - val_mae: 1027.6107\n",
      "Epoch 2/10\n",
      "110/110 [==============================] - 0s 1ms/step - loss: 8658583.8018 - mae: 833.5263 - val_loss: 13385251.0000 - val_mae: 1025.3862\n",
      "Epoch 3/10\n",
      "110/110 [==============================] - 0s 1ms/step - loss: 6906733.1239 - mae: 774.2493 - val_loss: 13377214.0000 - val_mae: 1022.3372\n",
      "Epoch 4/10\n",
      "110/110 [==============================] - 0s 1ms/step - loss: 8696775.1171 - mae: 808.4993 - val_loss: 13367499.0000 - val_mae: 1018.7703\n",
      "Epoch 5/10\n",
      "110/110 [==============================] - 0s 2ms/step - loss: 9045639.0000 - mae: 822.6435 - val_loss: 13354732.0000 - val_mae: 1014.3842\n",
      "Epoch 6/10\n",
      "110/110 [==============================] - 0s 1ms/step - loss: 9438264.6171 - mae: 840.3063 - val_loss: 13338646.0000 - val_mae: 1009.2284\n",
      "Epoch 7/10\n",
      "110/110 [==============================] - 0s 2ms/step - loss: 8310190.9257 - mae: 793.4398 - val_loss: 13319025.0000 - val_mae: 1003.3420\n",
      "Epoch 8/10\n",
      "110/110 [==============================] - 0s 1ms/step - loss: 8158531.6351 - mae: 780.9634 - val_loss: 13295191.0000 - val_mae: 997.0684\n",
      "Epoch 9/10\n",
      "110/110 [==============================] - 0s 1ms/step - loss: 8886582.2703 - mae: 796.5826 - val_loss: 13267020.0000 - val_mae: 990.7275\n",
      "Epoch 10/10\n",
      "110/110 [==============================] - 0s 1ms/step - loss: 10264011.4932 - mae: 832.1585 - val_loss: 13233540.0000 - val_mae: 984.9011\n",
      "processing fold # 3\n",
      "Epoch 1/10\n",
      "110/110 [==============================] - 1s 3ms/step - loss: 11715120.3896 - mae: 926.0991 - val_loss: 4220291.0000 - val_mae: 714.5868\n",
      "Epoch 2/10\n",
      "110/110 [==============================] - 0s 1ms/step - loss: 12846007.3446 - mae: 955.0331 - val_loss: 4218970.0000 - val_mae: 713.7092\n",
      "Epoch 3/10\n",
      "110/110 [==============================] - 0s 1ms/step - loss: 10544558.6802 - mae: 886.9985 - val_loss: 4217026.5000 - val_mae: 712.5115\n",
      "Epoch 4/10\n",
      "110/110 [==============================] - 0s 1ms/step - loss: 11989332.0901 - mae: 938.9836 - val_loss: 4214527.5000 - val_mae: 711.0944\n",
      "Epoch 5/10\n",
      "110/110 [==============================] - 0s 2ms/step - loss: 11487318.1441 - mae: 913.4200 - val_loss: 4211124.5000 - val_mae: 709.2913\n",
      "Epoch 6/10\n",
      "110/110 [==============================] - 0s 1ms/step - loss: 10627900.5450 - mae: 899.9250 - val_loss: 4206955.0000 - val_mae: 707.1688\n",
      "Epoch 7/10\n",
      "110/110 [==============================] - 0s 2ms/step - loss: 11059738.5766 - mae: 901.7470 - val_loss: 4202049.0000 - val_mae: 704.7712\n",
      "Epoch 8/10\n",
      "110/110 [==============================] - 0s 2ms/step - loss: 10869154.8716 - mae: 882.7656 - val_loss: 4195911.5000 - val_mae: 701.9163\n",
      "Epoch 9/10\n",
      "110/110 [==============================] - 0s 1ms/step - loss: 10798303.2477 - mae: 887.4668 - val_loss: 4188766.7500 - val_mae: 698.6817\n",
      "Epoch 10/10\n",
      "110/110 [==============================] - 0s 1ms/step - loss: 13202863.0270 - mae: 932.1154 - val_loss: 4180634.7500 - val_mae: 695.1757\n"
     ]
    }
   ],
   "source": [
    "k = 4\n",
    "num_val_samples = len(remaining_data) // k\n",
    "num_epochs = 10\n",
    "all_scores = []\n",
    "for i in range(k):\n",
    " print('processing fold #', i)\n",
    "\n",
    "\n",
    " # Prepare the validation data: data from partition # k\n",
    " val_data = remaining_data[i * num_val_samples: (i + 1) * num_val_samples]\n",
    " val_targets = remaining_labels[i * num_val_samples: (i + 1) * num_val_samples]\n",
    "\n",
    "\n",
    " # Prepare the training data: data from all other partitions\n",
    "\n",
    " partial_train_data = np.concatenate(\n",
    " [remaining_data[:i * num_val_samples],\n",
    " remaining_data[(i + 1) * num_val_samples:]],\n",
    " axis=0)\n",
    "\n",
    " partial_train_targets = np.concatenate(\n",
    " [remaining_labels[:i * num_val_samples],\n",
    " remaining_labels[(i + 1) * num_val_samples:]],\n",
    " axis=0)\n",
    " # Build the Keras model (already compiled)\n",
    " model = build_model()\n",
    " # Train the model (in silent mode, verbose=0)\n",
    " history=model.fit(partial_train_data, partial_train_targets,epochs=num_epochs,validation_data=(val_data, val_targets), batch_size=1, verbose=1)\n",
    " # Evaluate the model on the validation data\n",
    " mae_history = history.history['val_mae']\n",
    " all_scores.append(mae_history)"
   ]
  },
  {
   "cell_type": "code",
   "execution_count": null,
   "metadata": {
    "colab": {
     "base_uri": "https://localhost:8080/"
    },
    "id": "9G9GGUUL6SRE",
    "outputId": "187a1219-0e2f-45d3-a7a1-63025c1e8e3c"
   },
   "outputs": [
    {
     "data": {
      "text/plain": [
       "7"
      ]
     },
     "execution_count": 22,
     "metadata": {
      "tags": []
     },
     "output_type": "execute_result"
    }
   ],
   "source": [
    "len(all_scores[0])"
   ]
  },
  {
   "cell_type": "code",
   "execution_count": 43,
   "metadata": {
    "id": "-mrNXGSm3Y0E"
   },
   "outputs": [],
   "source": [
    "average_mae_history = [np.mean([x[i] for x in all_scores]) for i in range(num_epochs)]"
   ]
  },
  {
   "cell_type": "code",
   "execution_count": 3,
   "metadata": {
    "colab": {
     "base_uri": "https://localhost:8080/",
     "height": 279
    },
    "id": "NZR6zhBr6r1E",
    "outputId": "bf3d88d6-d674-47cd-ce66-3da8c4f77cae"
   },
   "outputs": [
    {
     "ename": "NameError",
     "evalue": "name 'plt' is not defined",
     "output_type": "error",
     "traceback": [
      "\u001b[1;31m---------------------------------------------------------------------------\u001b[0m",
      "\u001b[1;31mNameError\u001b[0m                                 Traceback (most recent call last)",
      "\u001b[1;32m<ipython-input-3-810717dc1f81>\u001b[0m in \u001b[0;36m<module>\u001b[1;34m\u001b[0m\n\u001b[1;32m----> 1\u001b[1;33m \u001b[0mplt\u001b[0m\u001b[1;33m.\u001b[0m\u001b[0mplot\u001b[0m\u001b[1;33m(\u001b[0m\u001b[0mrange\u001b[0m\u001b[1;33m(\u001b[0m\u001b[0mlen\u001b[0m\u001b[1;33m(\u001b[0m\u001b[0maverage_mae_history\u001b[0m\u001b[1;33m)\u001b[0m\u001b[1;33m)\u001b[0m\u001b[1;33m,\u001b[0m \u001b[0maverage_mae_history\u001b[0m\u001b[1;33m)\u001b[0m\u001b[1;33m\u001b[0m\u001b[1;33m\u001b[0m\u001b[0m\n\u001b[0m\u001b[0;32m      2\u001b[0m \u001b[0mplt\u001b[0m\u001b[1;33m.\u001b[0m\u001b[0mxlabel\u001b[0m\u001b[1;33m(\u001b[0m\u001b[1;34m'Epochs'\u001b[0m\u001b[1;33m)\u001b[0m\u001b[1;33m\u001b[0m\u001b[1;33m\u001b[0m\u001b[0m\n\u001b[0;32m      3\u001b[0m \u001b[0mplt\u001b[0m\u001b[1;33m.\u001b[0m\u001b[0mylabel\u001b[0m\u001b[1;33m(\u001b[0m\u001b[1;34m'Validation MAE'\u001b[0m\u001b[1;33m)\u001b[0m\u001b[1;33m\u001b[0m\u001b[1;33m\u001b[0m\u001b[0m\n\u001b[0;32m      4\u001b[0m \u001b[0mplt\u001b[0m\u001b[1;33m.\u001b[0m\u001b[0mshow\u001b[0m\u001b[1;33m(\u001b[0m\u001b[1;33m)\u001b[0m\u001b[1;33m\u001b[0m\u001b[1;33m\u001b[0m\u001b[0m\n",
      "\u001b[1;31mNameError\u001b[0m: name 'plt' is not defined"
     ]
    }
   ],
   "source": [
    "plt.plot(range(len(average_mae_history)), average_mae_history)\n",
    "plt.xlabel('Epochs')\n",
    "plt.ylabel('Validation MAE')\n",
    "plt.show()"
   ]
  },
  {
   "cell_type": "code",
   "execution_count": 45,
   "metadata": {
    "colab": {
     "base_uri": "https://localhost:8080/"
    },
    "id": "A0QbKxLcEIKE",
    "outputId": "363a997a-19a4-45f7-a90c-1890173c066b"
   },
   "outputs": [
    {
     "name": "stdout",
     "output_type": "stream",
     "text": [
      "2/2 [==============================] - 0s 6ms/step - loss: 11322369.0000 - mae: 931.1113\n"
     ]
    },
    {
     "data": {
      "text/plain": [
       "[11322369.0, 931.1112670898438]"
      ]
     },
     "execution_count": 45,
     "metadata": {
      "tags": []
     },
     "output_type": "execute_result"
    }
   ],
   "source": [
    "model.evaluate(test_data,test_label)"
   ]
  },
  {
   "cell_type": "code",
   "execution_count": 46,
   "metadata": {
    "colab": {
     "base_uri": "https://localhost:8080/"
    },
    "id": "a4NA9oc4ImGA",
    "outputId": "a575f4f3-cb4a-4e4e-e186-ab6ecc78c5d9"
   },
   "outputs": [
    {
     "data": {
      "text/plain": [
       "array([[135.3709  ],\n",
       "       [134.60225 ],\n",
       "       [156.57402 ],\n",
       "       [127.64557 ],\n",
       "       [116.49236 ],\n",
       "       [156.33424 ],\n",
       "       [182.9605  ],\n",
       "       [184.63211 ],\n",
       "       [216.5252  ],\n",
       "       [139.86748 ],\n",
       "       [137.89862 ],\n",
       "       [127.52046 ],\n",
       "       [142.44426 ],\n",
       "       [136.53688 ],\n",
       "       [170.52    ],\n",
       "       [225.97816 ],\n",
       "       [234.79268 ],\n",
       "       [275.06052 ],\n",
       "       [ 82.6036  ],\n",
       "       [ 91.46515 ],\n",
       "       [ 76.408035],\n",
       "       [ 96.23672 ],\n",
       "       [ 96.749825],\n",
       "       [105.20273 ],\n",
       "       [ 89.857254],\n",
       "       [ 84.372765],\n",
       "       [ 83.94489 ],\n",
       "       [ 98.70759 ],\n",
       "       [106.077385],\n",
       "       [167.17891 ],\n",
       "       [110.67722 ],\n",
       "       [ 20.720291],\n",
       "       [ 21.911816],\n",
       "       [ 21.153885],\n",
       "       [ 86.80022 ],\n",
       "       [ 88.629555],\n",
       "       [ 85.91996 ],\n",
       "       [ 85.26052 ],\n",
       "       [  8.648748],\n",
       "       [ 18.258213],\n",
       "       [  6.622422],\n",
       "       [ 12.806258],\n",
       "       [ 11.989087],\n",
       "       [ 12.295834],\n",
       "       [  9.425937],\n",
       "       [ 34.149643],\n",
       "       [ 41.61568 ],\n",
       "       [ 32.22347 ],\n",
       "       [ 20.0938  ],\n",
       "       [ 11.335109],\n",
       "       [ 70.95661 ],\n",
       "       [ 74.01116 ],\n",
       "       [ 68.63599 ],\n",
       "       [ 72.5368  ],\n",
       "       [106.32766 ],\n",
       "       [110.40316 ],\n",
       "       [ 87.51907 ],\n",
       "       [123.00221 ],\n",
       "       [ 97.41627 ],\n",
       "       [ 75.293175],\n",
       "       [112.40531 ]], dtype=float32)"
      ]
     },
     "execution_count": 46,
     "metadata": {
      "tags": []
     },
     "output_type": "execute_result"
    }
   ],
   "source": [
    "model.predict(test_data)"
   ]
  }
 ],
 "metadata": {
  "colab": {
   "collapsed_sections": [],
   "name": "Car_Price_prediction.ipynb",
   "provenance": []
  },
  "kernelspec": {
   "display_name": "Python 3",
   "language": "python",
   "name": "python3"
  },
  "language_info": {
   "codemirror_mode": {
    "name": "ipython",
    "version": 3
   },
   "file_extension": ".py",
   "mimetype": "text/x-python",
   "name": "python",
   "nbconvert_exporter": "python",
   "pygments_lexer": "ipython3",
   "version": "3.8.5"
  }
 },
 "nbformat": 4,
 "nbformat_minor": 1
}
